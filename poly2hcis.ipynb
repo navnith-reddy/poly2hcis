{
 "cells": [
  {
   "cell_type": "code",
   "execution_count": 1,
   "metadata": {},
   "outputs": [],
   "source": [
    "import HCIS\n",
    "import pandas as pd\n",
    "import geopandas as gpd\n",
    "\n",
    "#HCIS.getASMG()"
   ]
  },
  {
   "cell_type": "code",
   "execution_count": 4,
   "metadata": {},
   "outputs": [],
   "source": [
    "asmg = HCIS.buildASMG()\n",
    "l1,l2,l3,l4 = HCIS.buildLevels()"
   ]
  },
  {
   "cell_type": "code",
   "execution_count": 7,
   "metadata": {},
   "outputs": [
    {
     "data": {
      "text/html": [
       "<div>\n",
       "<style scoped>\n",
       "    .dataframe tbody tr th:only-of-type {\n",
       "        vertical-align: middle;\n",
       "    }\n",
       "\n",
       "    .dataframe tbody tr th {\n",
       "        vertical-align: top;\n",
       "    }\n",
       "\n",
       "    .dataframe thead th {\n",
       "        text-align: right;\n",
       "    }\n",
       "</style>\n",
       "<table border=\"1\" class=\"dataframe\">\n",
       "  <thead>\n",
       "    <tr style=\"text-align: right;\">\n",
       "      <th></th>\n",
       "      <th>HCIS_ID</th>\n",
       "      <th>geometry</th>\n",
       "    </tr>\n",
       "  </thead>\n",
       "  <tbody>\n",
       "    <tr>\n",
       "      <th>0</th>\n",
       "      <td>GO3A1</td>\n",
       "      <td>POLYGON ((132.00118 -9.99856, 132.08452 -9.998...</td>\n",
       "    </tr>\n",
       "    <tr>\n",
       "      <th>1</th>\n",
       "      <td>GO3A2</td>\n",
       "      <td>POLYGON ((132.08452 -9.99856, 132.16785 -9.998...</td>\n",
       "    </tr>\n",
       "    <tr>\n",
       "      <th>2</th>\n",
       "      <td>GO3A3</td>\n",
       "      <td>POLYGON ((132.16785 -9.99856, 132.25118 -9.998...</td>\n",
       "    </tr>\n",
       "    <tr>\n",
       "      <th>3</th>\n",
       "      <td>GO3A4</td>\n",
       "      <td>POLYGON ((132.00118 -10.08189, 132.08452 -10.0...</td>\n",
       "    </tr>\n",
       "    <tr>\n",
       "      <th>4</th>\n",
       "      <td>GO3A5</td>\n",
       "      <td>POLYGON ((132.08452 -10.08189, 132.16785 -10.0...</td>\n",
       "    </tr>\n",
       "    <tr>\n",
       "      <th>...</th>\n",
       "      <td>...</td>\n",
       "      <td>...</td>\n",
       "    </tr>\n",
       "    <tr>\n",
       "      <th>138697</th>\n",
       "      <td>KW</td>\n",
       "      <td>POLYGON ((142.00130 -33.99850, 142.08463 -33.9...</td>\n",
       "    </tr>\n",
       "    <tr>\n",
       "      <th>138698</th>\n",
       "      <td>LW</td>\n",
       "      <td>POLYGON ((145.00126 -33.99847, 145.08459 -33.9...</td>\n",
       "    </tr>\n",
       "    <tr>\n",
       "      <th>138699</th>\n",
       "      <td>MW</td>\n",
       "      <td>POLYGON ((148.00121 -33.99844, 148.08454 -33.9...</td>\n",
       "    </tr>\n",
       "    <tr>\n",
       "      <th>138700</th>\n",
       "      <td>LX</td>\n",
       "      <td>POLYGON ((145.00129 -36.99849, 145.08463 -36.9...</td>\n",
       "    </tr>\n",
       "    <tr>\n",
       "      <th>138701</th>\n",
       "      <td>LY</td>\n",
       "      <td>POLYGON ((145.00135 -39.99851, 145.08468 -39.9...</td>\n",
       "    </tr>\n",
       "  </tbody>\n",
       "</table>\n",
       "<p>138702 rows × 2 columns</p>\n",
       "</div>"
      ],
      "text/plain": [
       "       HCIS_ID                                           geometry\n",
       "0        GO3A1  POLYGON ((132.00118 -9.99856, 132.08452 -9.998...\n",
       "1        GO3A2  POLYGON ((132.08452 -9.99856, 132.16785 -9.998...\n",
       "2        GO3A3  POLYGON ((132.16785 -9.99856, 132.25118 -9.998...\n",
       "3        GO3A4  POLYGON ((132.00118 -10.08189, 132.08452 -10.0...\n",
       "4        GO3A5  POLYGON ((132.08452 -10.08189, 132.16785 -10.0...\n",
       "...        ...                                                ...\n",
       "138697      KW  POLYGON ((142.00130 -33.99850, 142.08463 -33.9...\n",
       "138698      LW  POLYGON ((145.00126 -33.99847, 145.08459 -33.9...\n",
       "138699      MW  POLYGON ((148.00121 -33.99844, 148.08454 -33.9...\n",
       "138700      LX  POLYGON ((145.00129 -36.99849, 145.08463 -36.9...\n",
       "138701      LY  POLYGON ((145.00135 -39.99851, 145.08468 -39.9...\n",
       "\n",
       "[138702 rows x 2 columns]"
      ]
     },
     "execution_count": 7,
     "metadata": {},
     "output_type": "execute_result"
    }
   ],
   "source": [
    "asmg = gpd.read_file(\"ASMG/ASMG.shp\")\n",
    "asmg"
   ]
  },
  {
   "cell_type": "code",
   "execution_count": 13,
   "metadata": {},
   "outputs": [
    {
     "data": {
      "text/plain": [
       "<AxesSubplot:>"
      ]
     },
     "execution_count": 13,
     "metadata": {},
     "output_type": "execute_result"
    },
    {
     "data": {
      "image/png": "[encoded data removed]",
      "text/plain": [
       "<Figure size 432x288 with 1 Axes>"
      ]
     },
     "metadata": {
      "needs_background": "light"
     },
     "output_type": "display_data"
    }
   ],
   "source": [
    "gpd.io.file.fiona.drvsupport.supported_drivers['KML'] = 'rw'\n",
    "inBand = gpd.read_file(\"DARCtoAWLin_Band.kml\", driver='KML')\n",
    "inBand = inBand.to_crs(epsg=4283)\n",
    "inBand.plot()"
   ]
  },
  {
   "cell_type": "code",
   "execution_count": 14,
   "metadata": {},
   "outputs": [
    {
     "data": {
      "text/html": [
       "<div>\n",
       "<style scoped>\n",
       "    .dataframe tbody tr th:only-of-type {\n",
       "        vertical-align: middle;\n",
       "    }\n",
       "\n",
       "    .dataframe tbody tr th {\n",
       "        vertical-align: top;\n",
       "    }\n",
       "\n",
       "    .dataframe thead th {\n",
       "        text-align: right;\n",
       "    }\n",
       "</style>\n",
       "<table border=\"1\" class=\"dataframe\">\n",
       "  <thead>\n",
       "    <tr style=\"text-align: right;\">\n",
       "      <th></th>\n",
       "      <th>HCIS_ID</th>\n",
       "      <th>Name</th>\n",
       "      <th>Description</th>\n",
       "      <th>geometry</th>\n",
       "    </tr>\n",
       "  </thead>\n",
       "  <tbody>\n",
       "    <tr>\n",
       "      <th>0</th>\n",
       "      <td>AR8A1</td>\n",
       "      <td>Part 1</td>\n",
       "      <td>&lt;html&gt;&lt;table border=\"1\"&gt; &lt;tr&gt;&lt;td&gt;LowerContourL...</td>\n",
       "      <td>POLYGON Z ((113.08467 -20.99871 3237.60672, 11...</td>\n",
       "    </tr>\n",
       "    <tr>\n",
       "      <th>1</th>\n",
       "      <td>AR8A2</td>\n",
       "      <td>Part 1</td>\n",
       "      <td>&lt;html&gt;&lt;table border=\"1\"&gt; &lt;tr&gt;&lt;td&gt;LowerContourL...</td>\n",
       "      <td>POLYGON Z ((113.16800 -20.99871 3237.60672, 11...</td>\n",
       "    </tr>\n",
       "    <tr>\n",
       "      <th>2</th>\n",
       "      <td>AR8A3</td>\n",
       "      <td>Part 1</td>\n",
       "      <td>&lt;html&gt;&lt;table border=\"1\"&gt; &lt;tr&gt;&lt;td&gt;LowerContourL...</td>\n",
       "      <td>POLYGON Z ((113.25133 -20.99871 3237.60672, 11...</td>\n",
       "    </tr>\n",
       "    <tr>\n",
       "      <th>3</th>\n",
       "      <td>AR8A4</td>\n",
       "      <td>Part 1</td>\n",
       "      <td>&lt;html&gt;&lt;table border=\"1\"&gt; &lt;tr&gt;&lt;td&gt;LowerContourL...</td>\n",
       "      <td>POLYGON Z ((113.08467 -21.08205 3237.60672, 11...</td>\n",
       "    </tr>\n",
       "    <tr>\n",
       "      <th>4</th>\n",
       "      <td>AR8A5</td>\n",
       "      <td>Part 1</td>\n",
       "      <td>&lt;html&gt;&lt;table border=\"1\"&gt; &lt;tr&gt;&lt;td&gt;LowerContourL...</td>\n",
       "      <td>POLYGON Z ((113.16800 -21.08205 3237.60672, 11...</td>\n",
       "    </tr>\n",
       "    <tr>\n",
       "      <th>...</th>\n",
       "      <td>...</td>\n",
       "      <td>...</td>\n",
       "      <td>...</td>\n",
       "      <td>...</td>\n",
       "    </tr>\n",
       "    <tr>\n",
       "      <th>1578</th>\n",
       "      <td>BS1N8</td>\n",
       "      <td>Part 464</td>\n",
       "      <td>&lt;html&gt;&lt;table border=\"1\"&gt; &lt;tr&gt;&lt;td&gt;LowerContourL...</td>\n",
       "      <td>POLYGON Z ((115.34476 -22.93522 2156.52296, 11...</td>\n",
       "    </tr>\n",
       "    <tr>\n",
       "      <th>1579</th>\n",
       "      <td>BS1N8</td>\n",
       "      <td>Part 465</td>\n",
       "      <td>&lt;html&gt;&lt;table border=\"1\"&gt; &lt;tr&gt;&lt;td&gt;LowerContourL...</td>\n",
       "      <td>POLYGON Z ((115.34482 -22.94425 2177.31887, 11...</td>\n",
       "    </tr>\n",
       "    <tr>\n",
       "      <th>1580</th>\n",
       "      <td>BS1N8</td>\n",
       "      <td>Part 467</td>\n",
       "      <td>&lt;html&gt;&lt;table border=\"1\"&gt; &lt;tr&gt;&lt;td&gt;LowerContourL...</td>\n",
       "      <td>POLYGON Z ((115.34957 -22.92617 2143.79049, 11...</td>\n",
       "    </tr>\n",
       "    <tr>\n",
       "      <th>1581</th>\n",
       "      <td>BS4B2</td>\n",
       "      <td>Part 470</td>\n",
       "      <td>&lt;html&gt;&lt;table border=\"1\"&gt; &lt;tr&gt;&lt;td&gt;LowerContourL...</td>\n",
       "      <td>POLYGON Z ((115.35513 -23.02541 2387.41877, 11...</td>\n",
       "    </tr>\n",
       "    <tr>\n",
       "      <th>1582</th>\n",
       "      <td>BS4D2</td>\n",
       "      <td>Part 409</td>\n",
       "      <td>&lt;html&gt;&lt;table border=\"1\"&gt; &lt;tr&gt;&lt;td&gt;LowerContourL...</td>\n",
       "      <td>POLYGON Z ((115.90598 -23.02551 3548.47933, 11...</td>\n",
       "    </tr>\n",
       "  </tbody>\n",
       "</table>\n",
       "<p>1583 rows × 4 columns</p>\n",
       "</div>"
      ],
      "text/plain": [
       "     HCIS_ID      Name                                        Description  \\\n",
       "0      AR8A1    Part 1  <html><table border=\"1\"> <tr><td>LowerContourL...   \n",
       "1      AR8A2    Part 1  <html><table border=\"1\"> <tr><td>LowerContourL...   \n",
       "2      AR8A3    Part 1  <html><table border=\"1\"> <tr><td>LowerContourL...   \n",
       "3      AR8A4    Part 1  <html><table border=\"1\"> <tr><td>LowerContourL...   \n",
       "4      AR8A5    Part 1  <html><table border=\"1\"> <tr><td>LowerContourL...   \n",
       "...      ...       ...                                                ...   \n",
       "1578   BS1N8  Part 464  <html><table border=\"1\"> <tr><td>LowerContourL...   \n",
       "1579   BS1N8  Part 465  <html><table border=\"1\"> <tr><td>LowerContourL...   \n",
       "1580   BS1N8  Part 467  <html><table border=\"1\"> <tr><td>LowerContourL...   \n",
       "1581   BS4B2  Part 470  <html><table border=\"1\"> <tr><td>LowerContourL...   \n",
       "1582   BS4D2  Part 409  <html><table border=\"1\"> <tr><td>LowerContourL...   \n",
       "\n",
       "                                               geometry  \n",
       "0     POLYGON Z ((113.08467 -20.99871 3237.60672, 11...  \n",
       "1     POLYGON Z ((113.16800 -20.99871 3237.60672, 11...  \n",
       "2     POLYGON Z ((113.25133 -20.99871 3237.60672, 11...  \n",
       "3     POLYGON Z ((113.08467 -21.08205 3237.60672, 11...  \n",
       "4     POLYGON Z ((113.16800 -21.08205 3237.60672, 11...  \n",
       "...                                                 ...  \n",
       "1578  POLYGON Z ((115.34476 -22.93522 2156.52296, 11...  \n",
       "1579  POLYGON Z ((115.34482 -22.94425 2177.31887, 11...  \n",
       "1580  POLYGON Z ((115.34957 -22.92617 2143.79049, 11...  \n",
       "1581  POLYGON Z ((115.35513 -23.02541 2387.41877, 11...  \n",
       "1582  POLYGON Z ((115.90598 -23.02551 3548.47933, 11...  \n",
       "\n",
       "[1583 rows x 4 columns]"
      ]
     },
     "execution_count": 14,
     "metadata": {},
     "output_type": "execute_result"
    }
   ],
   "source": [
    "\n",
    "l1Intersect = gpd.overlay(l1, inBand, how=\"intersection\")\n",
    "l1Intersect"
   ]
  },
  {
   "cell_type": "code",
   "execution_count": 17,
   "metadata": {},
   "outputs": [
    {
     "ename": "AttributeError",
     "evalue": "module 'HCIS' has no attribute 'hcis2gdf'",
     "output_type": "error",
     "traceback": [
      "\u001b[1;31m---------------------------------------------------------------------------\u001b[0m",
      "\u001b[1;31mAttributeError\u001b[0m                            Traceback (most recent call last)",
      "\u001b[1;32m~\\AppData\\Local\\Temp\\ipykernel_26780\\3750616560.py\u001b[0m in \u001b[0;36m<cell line: 3>\u001b[1;34m()\u001b[0m\n\u001b[0;32m      1\u001b[0m \u001b[0mhcisList\u001b[0m \u001b[1;33m=\u001b[0m \u001b[0ml1Intersect\u001b[0m\u001b[1;33m[\u001b[0m\u001b[1;34m'HCIS_ID'\u001b[0m\u001b[1;33m]\u001b[0m\u001b[1;33m.\u001b[0m\u001b[0mto_list\u001b[0m\u001b[1;33m(\u001b[0m\u001b[1;33m)\u001b[0m\u001b[1;33m\u001b[0m\u001b[1;33m\u001b[0m\u001b[0m\n\u001b[0;32m      2\u001b[0m \u001b[1;33m\u001b[0m\u001b[0m\n\u001b[1;32m----> 3\u001b[1;33m \u001b[0mgdf\u001b[0m \u001b[1;33m=\u001b[0m \u001b[0mHCIS\u001b[0m\u001b[1;33m.\u001b[0m\u001b[0mhcis2gdf\u001b[0m\u001b[1;33m(\u001b[0m\u001b[0mhcisList\u001b[0m\u001b[1;33m)\u001b[0m\u001b[1;33m\u001b[0m\u001b[1;33m\u001b[0m\u001b[0m\n\u001b[0m\u001b[0;32m      4\u001b[0m \u001b[0mgdf\u001b[0m\u001b[1;33m.\u001b[0m\u001b[0mplot\u001b[0m\u001b[1;33m(\u001b[0m\u001b[1;33m)\u001b[0m\u001b[1;33m\u001b[0m\u001b[1;33m\u001b[0m\u001b[0m\n",
      "\u001b[1;31mAttributeError\u001b[0m: module 'HCIS' has no attribute 'hcis2gdf'"
     ]
    }
   ],
   "source": [
    "hcisList = l1Intersect['HCIS_ID'].to_list()\n",
    "\n",
    "gdf = HCIS.hcis2gdf(hcisList)\n",
    "gdf.plot()"
   ]
  },
  {
   "cell_type": "code",
   "execution_count": null,
   "metadata": {},
   "outputs": [],
   "source": []
  }
 ],
 "metadata": {
  "kernelspec": {
   "display_name": "Python 3.10.2 64-bit",
   "language": "python",
   "name": "python3"
  },
  "language_info": {
   "codemirror_mode": {
    "name": "ipython",
    "version": 3
   },
   "file_extension": ".py",
   "mimetype": "text/x-python",
   "name": "python",
   "nbconvert_exporter": "python",
   "pygments_lexer": "ipython3",
   "version": "3.10.2"
  },
  "orig_nbformat": 4,
  "vscode": {
   "interpreter": {
    "hash": "f3b1cddd90e041739cc508b511777643b291f5d1b3dc05751cb59eb7093c1b3d"
   }
  }
 },
 "nbformat": 4,
 "nbformat_minor": 2
}
